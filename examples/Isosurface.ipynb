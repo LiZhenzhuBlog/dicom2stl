{
 "cells": [
  {
   "cell_type": "markdown",
   "metadata": {},
   "source": [
    "# Using dicom2stl.py to extract an iso-surface from a volume"
   ]
  },
  {
   "cell_type": "markdown",
   "metadata": {},
   "source": [
    "This notebook gives a basic introduction to using the `'dicom2stl.py'` script to extract an iso-surface from a volume image."
   ]
  },
  {
   "cell_type": "code",
   "execution_count": 1,
   "metadata": {},
   "outputs": [],
   "source": [
    "import os, sys\n",
    "\n",
    "# download dicom2stl if it's not here already\n",
    "if not os.path.isdir('dicom2stl'):\n",
    "    !{'git clone https://github.com/dave3d/dicom2stl.git'}"
   ]
  },
  {
   "cell_type": "markdown",
   "metadata": {},
   "source": [
    "## Create a test volume that is 4 Gaussian blobs arranged in a tetrahedron"
   ]
  },
  {
   "cell_type": "code",
   "execution_count": 2,
   "metadata": {},
   "outputs": [],
   "source": [
    "from dicom2stl.tests import create_data\n",
    "tetra = create_data.make_tetra()"
   ]
  },
  {
   "cell_type": "markdown",
   "metadata": {},
   "source": [
    "## Display the tetra volume using [ITK Widgets](https://github.com/InsightSoftwareConsortium/itkwidgets)"
   ]
  },
  {
   "cell_type": "code",
   "execution_count": 3,
   "metadata": {},
   "outputs": [],
   "source": [
    "try:\n",
    "    import itkwidgets\n",
    "except:\n",
    "    !{sys.executable} -m pip install itkwidgets\n",
    "    import itkwidgets"
   ]
  },
  {
   "cell_type": "code",
   "execution_count": 4,
   "metadata": {},
   "outputs": [
    {
     "data": {
      "application/vnd.jupyter.widget-view+json": {
       "model_id": "ef0153b3d4204b928d90644013176e1b",
       "version_major": 2,
       "version_minor": 0
      },
      "text/plain": [
       "Viewer(cmap='Grayscale', geometries=[], gradient_opacity=0.22, point_sets=[], rendered_image=<itkImagePython.i…"
      ]
     },
     "metadata": {},
     "output_type": "display_data"
    }
   ],
   "source": [
    "itkwidgets.view(tetra, cmap='Grayscale', vmin=100)"
   ]
  },
  {
   "cell_type": "markdown",
   "metadata": {},
   "source": [
    "## Write the tetra volume to a file"
   ]
  },
  {
   "cell_type": "code",
   "execution_count": 5,
   "metadata": {},
   "outputs": [],
   "source": [
    "try:\n",
    "    import SimpleITK as sitk\n",
    "except:\n",
    "    !{sys.executable} -m pip install SimpleITK\n",
    "    import SimpleITK as sitk\n",
    "    \n",
    "sitk.WriteImage(tetra, \"tetra.nii.gz\")"
   ]
  },
  {
   "cell_type": "markdown",
   "metadata": {},
   "source": [
    "## Show the command line options for dicom2stl.py"
   ]
  },
  {
   "cell_type": "code",
   "execution_count": 6,
   "metadata": {},
   "outputs": [
    {
     "name": "stdout",
     "output_type": "stream",
     "text": [
      "\n",
      "dicom2stl.py: [options] dicom.zip\n",
      "   or\n",
      "dicom2stl.py: [options] volume_image\n",
      "   or\n",
      "dicom2stl.py: [options] slice1 ... sliceN\n",
      "   or\n",
      "dicom2stl.py: [options] dicom_directory\n",
      "\n",
      "  -h, --help          This help message\n",
      "  -v, --verbose       Verbose output\n",
      "  -D, --debug         Debug mode\n",
      "\n",
      "  -o string           Output file name (default=result.stl)\n",
      "  -m string           Metadata file name (default=\"\")\n",
      "  --ct                Only allow CT images\n",
      "  -c, --clean         Clean up temp files\n",
      "  -T string, --temp string      Directory to place temporary files\n",
      "  -s string, --search string    Dicom series search string\n",
      "\n",
      "  Volume processing options\n",
      "  -t string, --type string      CT Tissue type [skin, bone, soft_tissue, fat]\n",
      "  -a, --anisotropic             Apply anisotropic smoothing to the volume\n",
      "  -i num, --isovalue num        Iso-surface value\n",
      "  -d string, --double string    Double threshold with 4 values in a string seperated by semicolons\n",
      "\n",
      "  Mesh options\n",
      "  -l, --largest       Keep only the largest connected mesh\n",
      "  --rotaxis int       Rotation axis (default=1, Y-axis)\n",
      "  --rotangle float    Rotation angle (default=180 degrees)\n",
      "  --smooth int        Smoothing iterations (default=25)\n",
      "  --reduce float      Polygon reduction factor (default=.9)\n",
      "\n",
      "  Enable/Disable various filtering options\n",
      "  --disable string    Disable an option [anisotropic, shrink, median, largest, rotation]\n",
      "  --enable  string    Enable an option [anisotropic, shrink, median, largest, rotation]\n"
     ]
    }
   ],
   "source": [
    "!{'./dicom2stl/dicom2stl.py -h'}"
   ]
  },
  {
   "cell_type": "markdown",
   "metadata": {},
   "source": [
    "## Extract an iso-surface from the tetra volume\n",
    "The `'-i'` flag tells the script the intensity value to use for the iso-surface, `150` in this case.  The `'-o'` flag specifies the output file, `tetra.stl`.  The script can output STL, VTK or PLY files.  And `tetra.nii.gz` is input volume."
   ]
  },
  {
   "cell_type": "code",
   "execution_count": 7,
   "metadata": {},
   "outputs": [
    {
     "name": "stdout",
     "output_type": "stream",
     "text": [
      "\n",
      "Temp dir:  /var/folders/89/xsd22c2d253712zzz79c3f1r0000gp/T/tmpjnpii44b\n",
      "Isovalue =  150.0\n",
      "File names:  ['tetra.nii.gz'] \n",
      "\n",
      "Surface extracted\n",
      "     44504 polygons\n",
      "     0.047 seconds\n",
      "Surface cleaned\n",
      "     44504 polygons\n",
      "     0.023 seconds\n",
      "Surface smoothed\n",
      "     44504 polygons\n",
      "     0.114 seconds\n",
      "Surface reduced\n",
      "     4450 polygons\n",
      "     0.289 seconds\n",
      "Writing 4450 polygons to tetra.stl\n",
      "writeSTL 1\n",
      "Output mesh: tetra.stl\n",
      "\n"
     ]
    }
   ],
   "source": [
    "!{'./dicom2stl/dicom2stl.py -i 150 -o tetra.stl tetra.nii.gz'}"
   ]
  },
  {
   "cell_type": "markdown",
   "metadata": {},
   "source": [
    "## Load the mesh"
   ]
  },
  {
   "cell_type": "code",
   "execution_count": 8,
   "metadata": {},
   "outputs": [
    {
     "name": "stdout",
     "output_type": "stream",
     "text": [
      "Input mesh: tetra.stl\n"
     ]
    }
   ],
   "source": [
    "from dicom2stl.utils import vtkutils\n",
    "mesh = vtkutils.readMesh('tetra.stl')"
   ]
  },
  {
   "cell_type": "markdown",
   "metadata": {},
   "source": [
    "## Display the mesh with the volume"
   ]
  },
  {
   "cell_type": "code",
   "execution_count": 9,
   "metadata": {},
   "outputs": [
    {
     "data": {
      "application/vnd.jupyter.widget-view+json": {
       "model_id": "3691eefb9c704f80886b29ecf5a5b045",
       "version_major": 2,
       "version_minor": 0
      },
      "text/plain": [
       "Viewer(cmap='Grayscale', geometries=[{'vtkClass': 'vtkPolyData', 'points': {'vtkClass': 'vtkPoints', 'name': '…"
      ]
     },
     "metadata": {},
     "output_type": "display_data"
    }
   ],
   "source": [
    "itkwidgets.view(tetra, cmap='Grayscale', geometries=[mesh], vmin=100)"
   ]
  },
  {
   "cell_type": "code",
   "execution_count": 10,
   "metadata": {},
   "outputs": [
    {
     "name": "stdout",
     "output_type": "stream",
     "text": [
      "Package            Version            \r\n",
      "------------------ -------------------\r\n",
      "appnope            0.1.0              \r\n",
      "attrs              19.3.0             \r\n",
      "backcall           0.1.0              \r\n",
      "bleach             3.1.4              \r\n",
      "certifi            2020.4.5.1         \r\n",
      "colorcet           2.0.2              \r\n",
      "cycler             0.10.0             \r\n",
      "decorator          4.4.2              \r\n",
      "defusedxml         0.6.0              \r\n",
      "entrypoints        0.3                \r\n",
      "future             0.18.2             \r\n",
      "importlib-metadata 1.6.0              \r\n",
      "ipydatawidgets     4.0.1              \r\n",
      "ipykernel          5.1.4              \r\n",
      "ipympl             0.5.6              \r\n",
      "ipython            7.13.0             \r\n",
      "ipython-genutils   0.2.0              \r\n",
      "ipywidgets         7.5.1              \r\n",
      "itk-core           5.1.0              \r\n",
      "itk-filtering      5.1.0              \r\n",
      "itk-meshtopolydata 0.5.1              \r\n",
      "itk-numerics       5.1.0              \r\n",
      "itkwidgets         0.26.1             \r\n",
      "jedi               0.17.0             \r\n",
      "Jinja2             2.11.2             \r\n",
      "jsonschema         3.2.0              \r\n",
      "jupyter            1.0.0              \r\n",
      "jupyter-client     6.1.3              \r\n",
      "jupyter-console    6.1.0              \r\n",
      "jupyter-core       4.6.3              \r\n",
      "kiwisolver         1.2.0              \r\n",
      "MarkupSafe         1.1.1              \r\n",
      "matplotlib         3.2.1              \r\n",
      "mistune            0.8.4              \r\n",
      "mkl-fft            1.0.15             \r\n",
      "mkl-random         1.1.1              \r\n",
      "mkl-service        2.3.0              \r\n",
      "nbconvert          5.6.1              \r\n",
      "nbformat           5.0.6              \r\n",
      "notebook           6.0.3              \r\n",
      "numpy              1.18.1             \r\n",
      "pandocfilters      1.4.2              \r\n",
      "param              1.9.3              \r\n",
      "parso              0.7.0              \r\n",
      "pexpect            4.8.0              \r\n",
      "pickleshare        0.7.5              \r\n",
      "pip                20.0.2             \r\n",
      "prometheus-client  0.7.1              \r\n",
      "prompt-toolkit     3.0.4              \r\n",
      "ptyprocess         0.6.0              \r\n",
      "pyct               0.4.6              \r\n",
      "Pygments           2.6.1              \r\n",
      "pyparsing          2.4.7              \r\n",
      "pyrsistent         0.16.0             \r\n",
      "python-dateutil    2.8.1              \r\n",
      "pyzmq              18.1.1             \r\n",
      "qtconsole          4.7.4              \r\n",
      "QtPy               1.9.0              \r\n",
      "scipy              1.4.1              \r\n",
      "Send2Trash         1.5.0              \r\n",
      "setuptools         46.4.0.post20200518\r\n",
      "SimpleITK          1.2.4              \r\n",
      "six                1.14.0             \r\n",
      "terminado          0.8.3              \r\n",
      "testpath           0.4.4              \r\n",
      "tornado            6.0.4              \r\n",
      "traitlets          4.3.3              \r\n",
      "traittypes         0.2.1              \r\n",
      "vtk                8.2.0              \r\n",
      "wcwidth            0.1.9              \r\n",
      "webencodings       0.5.1              \r\n",
      "wheel              0.34.2             \r\n",
      "widgetsnbextension 3.5.1              \r\n",
      "zipp               3.1.0              \r\n",
      "zstandard          0.13.0             \r\n"
     ]
    }
   ],
   "source": [
    "!{'pip list'}"
   ]
  },
  {
   "cell_type": "code",
   "execution_count": null,
   "metadata": {},
   "outputs": [],
   "source": []
  }
 ],
 "metadata": {
  "kernelspec": {
   "display_name": "Python 3",
   "language": "python",
   "name": "python3"
  },
  "language_info": {
   "codemirror_mode": {
    "name": "ipython",
    "version": 3
   },
   "file_extension": ".py",
   "mimetype": "text/x-python",
   "name": "python",
   "nbconvert_exporter": "python",
   "pygments_lexer": "ipython3",
   "version": "3.7.7"
  }
 },
 "nbformat": 4,
 "nbformat_minor": 4
}
