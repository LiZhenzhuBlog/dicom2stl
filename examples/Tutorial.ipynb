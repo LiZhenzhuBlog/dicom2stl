{
 "cells": [
  {
   "cell_type": "markdown",
   "metadata": {},
   "source": [
    "# Creating a Printable Model from a 3D Medical Image\n",
    "\n",
    "## A Tutorial on dicom2stl.py\n"
   ]
  },
  {
   "cell_type": "code",
   "execution_count": null,
   "metadata": {},
   "outputs": [],
   "source": [
    "import SimpleITK as sitk\n",
    "%matplotlib notebook"
   ]
  },
  {
   "cell_type": "markdown",
   "metadata": {},
   "source": [
    "# Digital Imaging and Communications in Medicine (DICOM)\n",
    "\n",
    "DICOM is the standard for the communication and management of **medical imaging information** and related data.\n",
    "\n",
    "DICOM is most commonly used for storing and transmitting medical images enabling the **integration of medical imaging devices** such as scanners, servers, workstations, printers, network hardware, and **picture archiving and communication systems (PACS)** from multiple manufacturers"
   ]
  },
  {
   "cell_type": "markdown",
   "metadata": {},
   "source": [
    "# Imaging Modalities\n",
    "\n",
    " * CT (computed tomography)\n",
    " * MRI (magnetic resonance imaging)\n",
    " * ultrasound\n",
    " * X-ray\n",
    " * fluoroscopy\n",
    " * angiography\n",
    " * mammography\n",
    " * breast tomosynthesis\n",
    " * PET (positron emission tomography)\n",
    " * SPECT (single photon emission computed tomography)\n",
    " * Endoscopy\n",
    " * microscopy and whole slide imaging\n",
    " * OCT (optical coherence tomography)."
   ]
  },
  {
   "cell_type": "code",
   "execution_count": null,
   "metadata": {},
   "outputs": [],
   "source": [
    "ct_image = sitk.ReadImage('Data/ct_example.nii.gz')\n",
    "mri_image = sitk.ReadImage('Data/mri_t1_example.nii.gz')"
   ]
  },
  {
   "cell_type": "code",
   "execution_count": null,
   "metadata": {},
   "outputs": [],
   "source": [
    "import gui\n",
    "gui.MultiImageDisplay(image_list=[ct_image, mri_image], title_list=['CT Head', 'MRI T1 Head'])"
   ]
  },
  {
   "cell_type": "markdown",
   "metadata": {},
   "source": [
    "# CT Houndsfield Units\n",
    "\n",
    "Hounsfield units (HU) are a dimensionless unit universally used in computed tomography (CT) scanning to express CT numbers in a standardized and convenient form. Hounsfield units are obtained from a linear transformation of the measured attenuation coefficients 1\n",
    "\n",
    " * Water is 0 HU\n",
    " * Air is -1000 HU\n",
    " * Very dense bone is 2000 HU\n",
    " * Metal is 3000 HU\n",
    " \n",
    " [Houndsfield Wikipedia page](https://en.wikipedia.org/wiki/Hounsfield_scale)"
   ]
  },
  {
   "cell_type": "markdown",
   "metadata": {},
   "source": [
    "# Image Segmentation\n",
    "\n",
    "The process of partitioning an image into multiple segments.\n",
    "\n",
    "Typically used to locate objects and boundaries in images.\n",
    "\n",
    "We use thresholding (selecting a range of image intesities), but SimpleITK has a variety of algorithms\n",
    "\n",
    "[SimpleITK Notebooks](https://github.com/InsightSoftwareConsortium/SimpleITK-Notebooks/tree/master/Python)"
   ]
  },
  {
   "cell_type": "code",
   "execution_count": null,
   "metadata": {},
   "outputs": [],
   "source": [
    "from myshow import myshow, myshow3d\n",
    "\n",
    "# To visualize the labels image in RGB with needs a image with 0-255 range\n",
    "ct255_image = sitk.Cast(sitk.IntensityWindowing(ct_bone,0,500.0,0.,255.), \n",
    "                        sitk.sitkUInt8)\n",
    "\n",
    "ct_bone = ct_image>200\n",
    "ct255_bone = sitk.Cast(ct_bone, sitk.sitkUInt8)\n",
    "\n",
    "myshow(sitk.LabelOverlay(ct255_image, ct255_bone), \"Basic Thresholding\")"
   ]
  },
  {
   "cell_type": "code",
   "execution_count": null,
   "metadata": {},
   "outputs": [],
   "source": []
  }
 ],
 "metadata": {
  "kernelspec": {
   "display_name": "Python 3",
   "language": "python",
   "name": "python3"
  },
  "language_info": {
   "codemirror_mode": {
    "name": "ipython",
    "version": 3
   },
   "file_extension": ".py",
   "mimetype": "text/x-python",
   "name": "python",
   "nbconvert_exporter": "python",
   "pygments_lexer": "ipython3",
   "version": "3.6.10"
  }
 },
 "nbformat": 4,
 "nbformat_minor": 4
}
